{
 "cells": [
  {
   "cell_type": "code",
   "execution_count": null,
   "metadata": {},
   "outputs": [],
   "source": [
    "import time\n",
    "import random\n",
    "import matplotlib.pyplot as plt\n",
    "import numpy as np"
   ]
  },
  {
   "cell_type": "code",
   "execution_count": null,
   "metadata": {},
   "outputs": [],
   "source": [
    "UP, DOWN = 1, -1\n",
    "\n",
    "class Person: \n",
    "\n",
    "    def __init__(self, target_floor, spawn_timepoint) -> None:\n",
    "        self.target_floor = target_floor\n",
    "        self.spawn_timepoint = spawn_timepoint\n",
    "\n",
    "class Elevator:\n",
    "\n",
    "    def __init__(self, capacity) -> None:\n",
    "        self.capacity = capacity\n",
    "        self.people = []\n",
    "        self.current_floor = 1\n",
    "        self.current_direction = UP\n",
    "    \n",
    "class Building:\n",
    "\n",
    "    def __init__(self, num_floors) -> None:\n",
    "        self.num_floors = num_floors\n",
    "        self.lounge = []\n",
    "        for _ in range(num_floors):\n",
    "            self.lounge.append([])\n",
    "        self.elevator : Elevator = Elevator(5)\n",
    "    \n",
    "    def step(self):\n",
    "        unloaded_people = [p for p in self.elevator.people if p.target_floor == self.elevator.current_floor]\n",
    "        self.elevator.people = [p for p in self.elevator.people if p.target_floor != self.elevator.current_floor]\n",
    "        while len(self.elevator.people)<self.elevator.capacity:\n",
    "            try:\n",
    "                self.elevator.people.append(self.lounge[self.elevator.current_floor-1].pop())\n",
    "            except IndexError:\n",
    "                break\n",
    "        self.elevator.current_floor += self.elevator.current_direction\n",
    "        if self.elevator.current_floor in [1, self.num_floors]:\n",
    "            self.elevator.current_direction *= -1\n",
    "        return unloaded_people\n",
    "\n",
    "    def add_person(self, p :Person, floor):\n",
    "        self.lounge[floor-1].append(p)\n",
    "\n",
    "    def __str__(self) -> str:\n",
    "        reprr=\"\"\n",
    "        for i, l in enumerate(self.lounge[::-1]):\n",
    "            reprr+=\"|\"+ (\"<\" if (self.num_floors-i)==self.elevator.current_floor else \"\" ) + str(self.num_floors-i) +\"|\\t\" + \"o \"*len(l) + \"\\n\"\n",
    "        reprr += f\"people on elevator: {len(self.elevator.people)}\\n\"\n",
    "\n",
    "        return reprr\n"
   ]
  },
  {
   "cell_type": "code",
   "execution_count": null,
   "metadata": {},
   "outputs": [],
   "source": [
    "def simulate(nmax = 1, _p=0.1):\n",
    "    b = Building(10)\n",
    "    avg_wait_times = []\n",
    "    wait_times = []\n",
    "    for tstep in range(1000):\n",
    "        if tstep<901:\n",
    "            for _ in range(nmax):\n",
    "                p = random.random()\n",
    "                if p<_p:\n",
    "                    cfloor = random.randint(1, 10)\n",
    "                    tfloor = random.randint(1,10)\n",
    "                    while tfloor!=cfloor:\n",
    "                        tfloor = random.randint(1,10)\n",
    "                    b.add_person(Person(tfloor, tstep), cfloor)\n",
    "        ps = b.step()\n",
    "        wait_times += [tstep - p.spawn_timepoint for p in ps]\n",
    "        if (len(wait_times)>0):\n",
    "            avg_wait_time = sum(wait_times) / len(wait_times)\n",
    "        else:\n",
    "            avg_wait_time = 0\n",
    "        avg_wait_times.append(avg_wait_time)\n",
    "        # with open(\"building.txt\", \"w\") as f:\n",
    "            # f.write(str(b))\n",
    "            # f.write(f\"{avg_wait_time}\")\n",
    "        # time.sleep(0.5)\n",
    "    return avg_wait_times "
   ]
  },
  {
   "cell_type": "code",
   "execution_count": null,
   "metadata": {},
   "outputs": [],
   "source": [
    "ss = np.array([simulate(1) for _ in range(100)])\n",
    "plt.plot(ss.mean(axis=0))\n",
    "plt.fill_between(np.arange(0,1000,1),np.percentile(ss,67,axis=0), np.percentile(ss,33,axis=0), alpha=0.1)\n",
    "\n",
    "ss = np.array([simulate(5) for _ in range(100)])\n",
    "plt.plot(ss.mean(axis=0))\n",
    "plt.fill_between(np.arange(0,1000,1),np.percentile(ss,67,axis=0), np.percentile(ss,33,axis=0), alpha=0.1)\n",
    "\n",
    "ss = np.array([simulate(3) for _ in range(100)])\n",
    "plt.plot(ss.mean(axis=0))\n",
    "plt.fill_between(np.arange(0,1000,1),np.percentile(ss,67,axis=0), np.percentile(ss,33,axis=0), alpha=0.1)"
   ]
  },
  {
   "cell_type": "code",
   "execution_count": null,
   "metadata": {},
   "outputs": [],
   "source": [
    "ps = [0.005*i for i in range(1,120)]\n",
    "ys = []\n",
    "\n",
    "for p in ps:\n",
    "    ss = np.array([simulate(1, p) for _ in range(200)])\n",
    "    ys.append(ss[:,-1].mean())"
   ]
  },
  {
   "cell_type": "code",
   "execution_count": null,
   "metadata": {},
   "outputs": [],
   "source": [
    "plt.scatter(ps, ys)"
   ]
  }
 ],
 "metadata": {
  "kernelspec": {
   "display_name": "scipy",
   "language": "python",
   "name": "python3"
  },
  "language_info": {
   "codemirror_mode": {
    "name": "ipython",
    "version": 3
   },
   "file_extension": ".py",
   "mimetype": "text/x-python",
   "name": "python",
   "nbconvert_exporter": "python",
   "pygments_lexer": "ipython3",
   "version": "3.12.1"
  }
 },
 "nbformat": 4,
 "nbformat_minor": 2
}
